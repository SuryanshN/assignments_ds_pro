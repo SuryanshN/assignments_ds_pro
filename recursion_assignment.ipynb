{
  "nbformat": 4,
  "nbformat_minor": 0,
  "metadata": {
    "colab": {
      "provenance": []
    },
    "kernelspec": {
      "name": "python3",
      "display_name": "Python 3"
    },
    "language_info": {
      "name": "python"
    }
  },
  "cells": [
    {
      "cell_type": "code",
      "execution_count": 1,
      "metadata": {
        "id": "lQjxmbRGY2O6"
      },
      "outputs": [],
      "source": [
        "# Q. 3 Print the max value of the array [ 13, 1, -3, 22, 5]."
      ]
    },
    {
      "cell_type": "code",
      "source": [
        "def max_val(arr,i):\n",
        "  if i>=len(arr):\n",
        "    return -1\n",
        "  else:\n",
        "    return max(arr[i],max_val(arr,i+1))\n",
        "arr=[1,3,4,33,21,11,45]\n",
        "print(max_val(arr,0))\n"
      ],
      "metadata": {
        "colab": {
          "base_uri": "https://localhost:8080/"
        },
        "id": "mM-7blI3Y3Zr",
        "outputId": "d80a80a1-bbaa-4a9d-efbf-bdc29a3a5fdc"
      },
      "execution_count": 9,
      "outputs": [
        {
          "output_type": "stream",
          "name": "stdout",
          "text": [
            "45\n"
          ]
        }
      ]
    },
    {
      "cell_type": "code",
      "source": [
        "# Q.4 Find the sum of the values of the array [92, 23, 15, -20, 10]."
      ],
      "metadata": {
        "id": "Qx3UsMQrZPU0"
      },
      "execution_count": 11,
      "outputs": []
    },
    {
      "cell_type": "code",
      "source": [
        "def sum_arr(arr,i):\n",
        "  if i>=len(arr):\n",
        "    return 0\n",
        "  else:\n",
        "    return (arr[i]+sum_arr(arr,i+1))\n",
        "arr= [92, 23, 15, -20, 10]\n",
        "print(sum_arr(arr,0))"
      ],
      "metadata": {
        "colab": {
          "base_uri": "https://localhost:8080/"
        },
        "id": "RceSXtPBZvoq",
        "outputId": "85f867fd-a8b4-4fff-8bc1-0113d152cb65"
      },
      "execution_count": 13,
      "outputs": [
        {
          "output_type": "stream",
          "name": "stdout",
          "text": [
            "120\n"
          ]
        }
      ]
    },
    {
      "cell_type": "code",
      "source": [
        "# Q.5 Given a number n. Print if it is an armstrong number or not.An armstrong number is a number if the sum\n",
        "# of every digit in that number raised to the power of total digits in that number is equal to the number."
      ],
      "metadata": {
        "id": "lt68YlVKazXp"
      },
      "execution_count": 14,
      "outputs": []
    },
    {
      "cell_type": "code",
      "source": [
        "def amstrong(n,s):\n",
        "  if n==0:\n",
        "    return 0\n",
        "  else:\n",
        "    return   (n%10)**s + amstrong(n//10,s)\n",
        "n=153\n",
        "y,s=n,0\n",
        "while(y!=0):\n",
        "  s+=1\n",
        "  y//=10\n",
        "\n",
        "if n==amstrong(n,s):\n",
        "  print(\"yes\")\n",
        "else:\n",
        "  print(\"no\")\n",
        "\n"
      ],
      "metadata": {
        "colab": {
          "base_uri": "https://localhost:8080/"
        },
        "id": "2CJ1pKb5bDBQ",
        "outputId": "18bf7cab-cf0a-47a0-f4f6-f5bafede90f1"
      },
      "execution_count": 15,
      "outputs": [
        {
          "output_type": "stream",
          "name": "stdout",
          "text": [
            "yes\n"
          ]
        }
      ]
    },
    {
      "cell_type": "code",
      "source": [
        "# Q.1 Can you explain the logic and working of the Tower of Hanoi algorithm by writing a Java program?\n",
        "# How does the recursion work, and how are the movements of disks between rods accomplished?"
      ],
      "metadata": {
        "id": "AGNQJlk0e6TD"
      },
      "execution_count": 16,
      "outputs": []
    },
    {
      "cell_type": "code",
      "source": [
        "def moves(n,s,d,a):\n",
        "  if n==1:\n",
        "    return 1\n",
        "  else:\n",
        "    return moves(n-1,s,a,d)+1+moves(n-1,a,d,s)\n",
        "print(moves(2,'s','d','a'))"
      ],
      "metadata": {
        "colab": {
          "base_uri": "https://localhost:8080/"
        },
        "id": "FAOwoyXMfHHR",
        "outputId": "906b3fbf-77cd-4541-e577-3b4321764470"
      },
      "execution_count": 21,
      "outputs": [
        {
          "output_type": "stream",
          "name": "stdout",
          "text": [
            "3\n"
          ]
        }
      ]
    },
    {
      "cell_type": "code",
      "source": [
        "# Q.2 Given two strings word1 and word2, return the minimum number of operations required to convert word1\n",
        "# to word2.\n",
        "def min_operations(word1, word2):\n",
        "    # Base case: If either of the strings is empty, the number of operations is the length of the other string\n",
        "    if not word1:\n",
        "        return len(word2)\n",
        "    if not word2:\n",
        "        return len(word1)\n",
        "\n",
        "    # If the last characters of the strings are the same, no operation is needed, move to the rest of the strings\n",
        "    if word1[-1] == word2[-1]:\n",
        "        return min_operations(word1[:-1], word2[:-1])\n",
        "\n",
        "    # If the last characters are different, consider three operations: delete, insert, and replace\n",
        "    delete_op = 1 + min_operations(word1[:-1], word2)\n",
        "    insert_op = 1 + min_operations(word1, word2[:-1])\n",
        "    replace_op = 1 + min_operations(word1[:-1], word2[:-1])\n",
        "\n",
        "    # Return the minimum of the three operations\n",
        "    return min(delete_op, insert_op, replace_op)\n",
        "\n",
        "# Example usage:\n",
        "word1 = \"intention\"\n",
        "word2 = \"execution\"\n",
        "result = min_operations(word1, word2)\n",
        "print(f\"Minimum operations to convert '{word1}' to '{word2}': {result}\")\n"
      ],
      "metadata": {
        "colab": {
          "base_uri": "https://localhost:8080/"
        },
        "id": "tClOGMo4gEAh",
        "outputId": "87adfeba-5339-47aa-e7b8-bca1bf2efcd7"
      },
      "execution_count": 22,
      "outputs": [
        {
          "output_type": "stream",
          "name": "stdout",
          "text": [
            "Minimum operations to convert 'intention' to 'execution': 5\n"
          ]
        }
      ]
    },
    {
      "cell_type": "code",
      "source": [],
      "metadata": {
        "id": "k1JpKmAEg0Go"
      },
      "execution_count": null,
      "outputs": []
    }
  ]
}