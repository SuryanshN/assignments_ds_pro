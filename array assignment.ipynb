{
 "cells": [
  {
   "cell_type": "code",
   "execution_count": 1,
   "id": "0cdc28b5",
   "metadata": {},
   "outputs": [],
   "source": [
    "# 1. Given an array, check if it contains any duplicates or not.\n",
    "# arr = [1, 2, 4, 2, 5, 9]"
   ]
  },
  {
   "cell_type": "code",
   "execution_count": 7,
   "id": "b250bc6b",
   "metadata": {},
   "outputs": [
    {
     "name": "stdout",
     "output_type": "stream",
     "text": [
      "False\n"
     ]
    }
   ],
   "source": [
    "def check_duplicate(arr, n):\n",
    "    arr1 = []  # Create an empty list to store unique elements\n",
    "    for i in range(0, n):\n",
    "        if arr[i] not in arr1:  # Check if arr[i] is not already in arr1\n",
    "            arr1.append(arr[i])  # If not, append it to arr1\n",
    "        else:\n",
    "            return True  # If it's already in arr1, it's a duplicate\n",
    "\n",
    "    return False  # No duplicates found\n",
    "\n",
    "arr = [1, 2, 4, 21, 5, 9]\n",
    "n = len(arr)\n",
    "print(check_duplicate(arr, n))\n"
   ]
  },
  {
   "cell_type": "code",
   "execution_count": 8,
   "id": "a123c11a",
   "metadata": {},
   "outputs": [],
   "source": [
    "# 2. Given an array and an integer k, rotate the array to the right by k steps.\n",
    "# arr = [1, 2, 3, 4, 5, 6, 7] k = 3\n",
    "# Output = [5, 6, 7, 1, 2, 3, 4]\n"
   ]
  },
  {
   "cell_type": "code",
   "execution_count": 19,
   "id": "009d651c",
   "metadata": {},
   "outputs": [
    {
     "name": "stdout",
     "output_type": "stream",
     "text": [
      "5 6 7 1 2 3 4 "
     ]
    }
   ],
   "source": [
    "def rotate_Arr(arr,n,k):\n",
    "    K=k\n",
    "    arr1=[]\n",
    "    while(k>0):\n",
    "        arr1.append(arr[n-k])\n",
    "        k=k-1\n",
    "        \n",
    "    for i in range(0,n-K):\n",
    "            arr1.append(arr[i])\n",
    "            \n",
    "    return arr1\n",
    "arr = [1, 2, 3, 4, 5, 6, 7]\n",
    "k=3\n",
    "n=len(arr)\n",
    "for i in rotate_Arr(arr,n,k):\n",
    "    print(i,end=' ')"
   ]
  },
  {
   "cell_type": "code",
   "execution_count": 3,
   "id": "e7621a8a",
   "metadata": {},
   "outputs": [
    {
     "name": "stdout",
     "output_type": "stream",
     "text": [
      "[12, 9, 7, 5, 4, 2]\n"
     ]
    }
   ],
   "source": [
    "# 3. Reverse the given array in-place, means without using any extra data structure.\n",
    "# arr = [2, 4, 5, 7, 9, 12]\n",
    "# Output = [12, 9, 7, 5, 4, 2]\n",
    "def reversed_array(arr):\n",
    "    start=0\n",
    "    end=len(arr)-1\n",
    "    while(start<end):\n",
    "        arr[start],arr[end]=arr[end],arr[start]\n",
    "        start+=1\n",
    "        end-=1\n",
    "arr = [2, 4, 5, 7, 9, 12]\n",
    "reversed_array(arr)\n",
    "print(arr)"
   ]
  },
  {
   "cell_type": "code",
   "execution_count": 5,
   "id": "20e054e3",
   "metadata": {},
   "outputs": [],
   "source": [
    "# 4. Given an array of integers, find the maximum element in an array\n",
    "# arr = [10, 5, 20, 8, 15]\n",
    "# Output = 20\n",
    "\n",
    "def max_element(arr):\n",
    "    max=-10000\n",
    "    for i in arr:\n",
    "        if max<i:\n",
    "            max=i\n",
    "    return max"
   ]
  },
  {
   "cell_type": "code",
   "execution_count": 6,
   "id": "6bc17f57",
   "metadata": {},
   "outputs": [
    {
     "name": "stdout",
     "output_type": "stream",
     "text": [
      "20\n"
     ]
    }
   ],
   "source": [
    "arr = [10, 5, 20, 8, 15]\n",
    "print(max_element(arr))"
   ]
  },
  {
   "cell_type": "code",
   "execution_count": 18,
   "id": "5b286d34",
   "metadata": {},
   "outputs": [
    {
     "name": "stdout",
     "output_type": "stream",
     "text": [
      "[1, 2, 3, 4, 5, 5, 5, 5, 5, 5, 5, 5]\n"
     ]
    }
   ],
   "source": [
    "# 5. Given a sorted array, remove the duplicate element without using any extra data structure.\n",
    "arr = [1, 1, 2, 2, 2, 3, 3, 4, 4, 4, 5, 5]\n",
    "# Output = [1, 2, 3, 4, 5]\n",
    "i=0\n",
    "n=len(arr)\n",
    "while i<n-1:\n",
    "    if arr[i]==arr[i+1]:\n",
    "        for j in range(i,n-1):\n",
    "            arr[j]=arr[j+1]\n",
    "        n-=1\n",
    "    else:\n",
    "        i+=1\n",
    "# del arr[n:]\n",
    "print(arr)\n"
   ]
  },
  {
   "cell_type": "code",
   "execution_count": null,
   "id": "3efc25c3",
   "metadata": {},
   "outputs": [],
   "source": []
  },
  {
   "cell_type": "code",
   "execution_count": null,
   "id": "0419ccdb",
   "metadata": {},
   "outputs": [],
   "source": []
  }
 ],
 "metadata": {
  "kernelspec": {
   "display_name": "Python 3 (ipykernel)",
   "language": "python",
   "name": "python3"
  },
  "language_info": {
   "codemirror_mode": {
    "name": "ipython",
    "version": 3
   },
   "file_extension": ".py",
   "mimetype": "text/x-python",
   "name": "python",
   "nbconvert_exporter": "python",
   "pygments_lexer": "ipython3",
   "version": "3.11.4"
  }
 },
 "nbformat": 4,
 "nbformat_minor": 5
}
